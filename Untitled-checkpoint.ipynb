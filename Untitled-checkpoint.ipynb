{
 "cells": [
  {
   "cell_type": "code",
   "execution_count": null,
   "metadata": {},
   "outputs": [],
   "source": [
    "import pandas as pd\n",
    "import numpy as np\n",
    "l1 = [55,56,78,90]\n",
    "l2 = [67,89,78,34]\n",
    "l3 = [90,78,89,45]\n",
    "l4 = [90,34,67,56]\n",
    "marks=[l1,l2,l3,l4]\n",
    "marks\n",
    "df=pd.DataFrame(marks,columns=['Bio','Maths','phy','Chem'],index=['Rahul','Riya','sita','Rohith'])\n",
    "df"
   ]
  }
 ],
 "metadata": {
  "kernelspec": {
   "display_name": "Python 3",
   "language": "python",
   "name": "python3"
  },
  "language_info": {
   "codemirror_mode": {
    "name": "ipython",
    "version": 3
   },
   "file_extension": ".py",
   "mimetype": "text/x-python",
   "name": "python",
   "nbconvert_exporter": "python",
   "pygments_lexer": "ipython3",
   "version": "3.8.5"
  }
 },
 "nbformat": 4,
 "nbformat_minor": 4
}
